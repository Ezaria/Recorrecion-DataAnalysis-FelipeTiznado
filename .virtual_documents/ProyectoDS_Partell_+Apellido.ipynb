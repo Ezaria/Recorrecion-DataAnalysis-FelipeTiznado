


import pandas as pd
import numpy as np
import seaborn as sns
import matplotlib.pyplot as plt
import warnings
warnings.filterwarnings("ignore", "use_inf_as_na option is deprecated")
df = pd.read_csv('SeoulBikeData.csv', encoding='latin-1')





##df.columns


print(df.isna().sum())
print(df.isnull().sum())


df['Date'] = pd.to_datetime(df['Date'], format= "%d/%m/%Y")
df['Week Day']=df['Date'].dt.day_name()

##df.dtypes


date = df['Date']
min_date = date.min()
max_date = date.max()

print(min_date, max_date)


week_day = df['Week Day']
week_day.value_counts()



season = df['Seasons']
season.value_counts()


holiday = df['Holiday']
holiday.value_counts()


avaibable = df['Functioning Day']
avaibable.value_counts()


##df[['Rented Bike Count', 'Hour', 'Temperature(°C)', 'Humidity(%)','Wind speed (m/s)',
  ##  'Visibility (10m)', 'Dew point temperature(°C)','Solar Radiation (MJ/m2)', 
   ## 'Rainfall(mm)', 'Snowfall (cm)']].value_counts()





g = sns.PairGrid(df)
g.map_upper(plt.scatter, s=2)
g.map_diag(plt.hist)
g.map_lower(plt.scatter, s=2)
g.fig.set_size_inches(20, 20)





ax = df.boxplot(column = "Rented Bike Count",
                by='Seasons',
                figsize=(5, 5))
ax.set_ylabel('Rented Bike Count')
ax.set_title('Seasons')





ax = df.boxplot(column = "Rented Bike Count",
                by='Holiday',
                figsize=(5, 5)
               )
ax.set_ylabel('Rented Bike Count')
ax.set_title('Holiday')








fig, axes = plt.subplots(ncols=3, figsize=(15, 5))
sns.scatterplot(x="Temperature(°C)", y="Rented Bike Count",
                sizes=(1, 8), linewidth=0,
                data=df[df['Seasons'].isin(['Winter', 'Spring'])], ax=axes[0], hue='Seasons', alpha=.1)
sns.scatterplot(x="Humidity(%)", y="Rented Bike Count",
                sizes=(1, 8), linewidth=0,
                data=df, ax=axes[1], hue='Seasons', alpha=.1)
sns.scatterplot(x="Wind speed (m/s)", y="Rented Bike Count",
                sizes=(1, 8), linewidth=0,
                data=df, ax=axes[2], hue='Seasons', alpha=.1)



g = sns.FacetGrid(df, col="Seasons")
g.map(sns.scatterplot, "Hour", "Rented Bike Count"  )



estaciones = df.groupby('Seasons')
estaciones = estaciones[['Seasons', 'Hour', 'Rented Bike Count']]
fig, axes = plt.subplots(2, 2, figsize=(12, 8))
contador = 0

for estacion, datos_estacion in estaciones:
    fila = contador // 2
    columna = contador % 2

    # Crear boxplot por hora del pedido
    datos_estacion.boxplot(by="Hour", ax=axes[fila, columna], showfliers=False)
    axes[fila, columna].set_title(estacion)
    axes[fila, columna].set_xlabel("Hora del pedido")
    axes[fila, columna].set_ylabel("Cantidad")

    contador += 1

fig.suptitle("Boxplots de cantidad por estación y hora del pedido")
plt.tight_layout()
plt.show()


bikeRentYear = df.groupby('Date'). sum()


fig = plt.subplots(figsize=(20, 5))
sns.lineplot(data=bikeRentYear,
             x='Date',
             y='Rented Bike Count',
            )





fig = plt.subplots(figsize=(20, 5))
bikeRentYear['Rented Bike Count'].plot.line(xlabel='Date', ylabel='Rented Bike Sum')
