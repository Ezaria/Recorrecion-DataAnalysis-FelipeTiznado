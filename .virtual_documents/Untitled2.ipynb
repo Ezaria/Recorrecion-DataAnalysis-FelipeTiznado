import matplotlib.pyplot as plt
import seaborn as sns
import pandas as pd
import numpy as np
df = pd.read_csv('SeoulBikeData-Copy1.csv', encoding='latin-1')


df['Solar Radiation (MJ/m2)'].describe()


df['Seasons'].value_counts()


import seaborn as sns
import pandas as pd

# Suponiendo que "df" es tu DataFrame

# Spring
Spring = df[df["Seasons"] == "Spring"]
g1 = sns.scatterplot(Spring, x="Solar Radiation (MJ/m2)", y="Rented Bike Count")

# Summer
Summer = df[df["Seasons"] == "Summer"]
g2 = sns.scatterplot(Summer, x="Solar Radiation (MJ/m2)", y="Rented Bike Count")

# Autumn
Autumn = df[df["Seasons"] == "Autumn"]
g3 = sns.scatterplot(Autumn, x="Solar Radiation (MJ/m2)", y="Rented Bike Count")

# Winter
Winter = df[df["Seasons"] == "Winter"]
g4 = sns.scatterplot(Winter, x="Solar Radiation (MJ/m2)", y="Rented Bike Count")

# Ajustar el layout y mostrar los gráficos
plt.figure(figsize=(12, 8))  # Ajustar el tamaño de la figura
plt.subplot(2, 2, 1)  # Subplot 1 (Spring)
plt.title("Spring")
plt.xticks([])  # Eliminar ticks del eje X
plt.yticks([])  # Eliminar ticks del eje Y
plt.grid(True)  # Agregar cuadrícula
plt.show()

plt.subplot(2, 2, 2)  # Subplot 2 (Summer)
plt.title("Summer")
plt.xticks([])
plt.yticks([])
plt.grid(True)
plt.show()

plt.subplot(2, 2, 3)  # Subplot 3 (Autumn)
plt.title("Autumn")
plt.xticks([])
plt.yticks([])
plt.grid(True)
plt.show()

plt.subplot(2, 2, 4)  # Subplot 4 (Winter)
plt.title("Winter")
plt.xticks([])
plt.yticks([])
plt.grid(True)
plt.show()



Spring = df[df["Seasons"] == "Spring"]
g1 = sns.scatterplot(Spring, x="Solar Radiation (MJ/m2)", y="Rented Bike Count")

Summer = df[df["Seasons"] == "Summer"]
g2 = sns.scatterplot(Summer, x="Solar Radiation (MJ/m2)", y="Rented Bike Count")


g = sns.catplot(df, x="Solar Radiation (MJ/m2)", y='Rented Bike Count', col="Seasons", kind="point")


g = sns.relplot(
    data=df,
    x="Solar Radiation (MJ/m2)", y='Rented Bike Count', col="Seasons",
    kind="scatter"
)





