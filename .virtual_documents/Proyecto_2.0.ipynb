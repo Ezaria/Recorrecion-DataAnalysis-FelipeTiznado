


import matplotlib.pyplot as plt
import seaborn as sns
import pandas as pd
import numpy as np
df = pd.read_csv('SeoulBikeData-Copy1.csv', encoding='latin-1')


df.columns


#print(df.isna().sum())
#print(df.isnull().sum())



