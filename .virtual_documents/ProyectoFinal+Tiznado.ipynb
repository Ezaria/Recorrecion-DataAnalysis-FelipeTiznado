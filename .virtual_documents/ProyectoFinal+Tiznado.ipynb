


import numpy as np
import pandas as pd
import matplotlib.pyplot as plt
import seaborn as sns
from sklearn.metrics import mean_squared_error,r2_score,mean_absolute_error
from sklearn.preprocessing import MinMaxScaler
from sklearn.model_selection import train_test_split
from sklearn.linear_model import LinearRegression
from sklearn.metrics import r2_score
from sklearn.metrics import mean_squared_error
df = pd.read_csv('SeoulBikeData-Copy1.csv', encoding='latin-1')


## creacion de Date, Week day y Month
df['Date'] = pd.to_datetime(df['Date'], format= "%d/%m/%Y")
df['Week Day']=df['Date'].dt.day_name()
df['Month']= pd.DatetimeIndex(df['Date']).month


## revision de null o NaN
#print(df.isna().sum())
#print(df.isnull().sum())








df['Holiday']=df['Holiday'].apply(lambda x: 1 if x=='Holiday' else 0)
df['Functioning Day']= df['Functioning Day'].apply(lambda x: 1 if x=='Yes' else 0)


## Separando las estaciones del año
one_hot_encoded_data = pd.get_dummies(df['Seasons']) 
df = pd.concat([df, one_hot_encoded_data], axis=1)






fig, axs = plt.subplots(3, 3, figsize=(12, 10))

sns.boxplot(x=df['Rented Bike Count'], ax=axs[0, 0])
sns.boxplot(x=df['Temperature(°C)'], ax=axs[1, 0])
sns.boxplot(x=df['Humidity(%)'], ax=axs[2, 0])
sns.boxplot(x=df['Wind speed (m/s)'], ax=axs[0, 1])
sns.boxplot(x=df['Visibility (10m)'], ax=axs[0, 2])
sns.boxplot(x=df['Dew point temperature(°C)'], ax=axs[1, 1])
sns.boxplot(x=df['Solar Radiation (MJ/m2)'], ax=axs[1, 2])
sns.boxplot(x=df['Rainfall(mm)'], ax=axs[2, 1])
sns.boxplot(x=df['Snowfall (cm)'], ax=axs[2, 2])


Q1 = df['Rainfall(mm)'].quantile(0.25)
Q3 = df['Rainfall(mm)'].quantile(0.75)
IQR = Q3 - Q1

lower_limit = Q1 - 1.5 * IQR
upper_limit = Q3 + 1.5 * IQR

df = df[(df['Rainfall(mm)'] >= lower_limit) & (df['Rainfall(mm)'] <= upper_limit)]


Q1 = df['Rented Bike Count'].quantile(0.25)
Q3 = df['Rented Bike Count'].quantile(0.75)
IQR = Q3 - Q1

lower_limit = Q1 - 1.5 * IQR
upper_limit = Q3 + 1.5 * IQR

df = df[(df['Rented Bike Count'] >= lower_limit) & (df['Rented Bike Count'] <= upper_limit)]


Q1 = df['Snowfall (cm)'].quantile(0.25)
Q3 = df['Snowfall (cm)'].quantile(0.75)
IQR = Q3 - Q1

lower_limit = Q1 - 1.5 * IQR
upper_limit = Q3 + 1.5 * IQR

df = df[(df['Snowfall (cm)'] >= lower_limit) & (df['Snowfall (cm)'] <= upper_limit)]


fig, axs = plt.subplots( nrows=1, ncols=3, figsize=(20, 5))

sns.boxplot(x=df['Rented Bike Count'], ax = axs[0])
sns.boxplot(x=df['Rainfall(mm)'], ax = axs[1])
sns.boxplot(x=df['Snowfall (cm)'], ax = axs[2])





t = sns.pairplot(df[['Date', 'Rented Bike Count', 'Hour', 'Temperature(°C)', 'Humidity(%)',
       'Wind speed (m/s)', 'Visibility (10m)', 'Dew point temperature(°C)',
       'Solar Radiation (MJ/m2)', 'Rainfall(mm)', 'Snowfall (cm)', 'Seasons']], hue="Seasons")
t.add_legend()





bikePerDay = df.groupby('Date').sum()
period_range = pd.period_range(start='2017-11', end='2018-11', freq='M')


fig, ax = plt.subplots(figsize=(30, 5))
g = sns.lineplot(df,
                 x='Date',
                 y='Rented Bike Count',
                 hue='Seasons')
x = plt.xticks(period_range, rotation=45)





df[['Functioning Day', 'Seasons']].value_counts()


fig, ax = plt.subplots(figsize=(30, 5)) 
p = sns.lineplot(
    data=df, 
    x="Date", 
    y="Temperature(°C)", 
    hue='Seasons'
)
x = plt.xticks(period_range, rotation=45)





data_only_avaible = df.copy()
indexNames = data_only_avaible[data_only_avaible['Functioning Day'] == 'No'].index
data_only_avaible.drop(indexNames, inplace=True)



g = sns.catplot(data_only_avaible, x="Hour", y="Rented Bike Count", col="Seasons", kind="box")





g = sns.catplot(data_only_avaible, x="Week Day", y="Rented Bike Count", col="Seasons", kind="box")





g = sns.relplot(
    data=data_only_avaible,
    x="Humidity(%)", y='Rented Bike Count', col="Seasons",
    kind="scatter"
)


g = sns.relplot(
    data=data_only_avaible,
    x="Solar Radiation (MJ/m2)", y='Rented Bike Count', col="Seasons",
    kind="scatter"
)



df['Visibility (10m)'].describe()


g = sns.relplot(
    data=data_only_avaible,
    x='Visibility (10m)', y='Rented Bike Count', col="Seasons",
    kind="scatter"
)


g = sns.relplot(
    data=data_only_avaible,
    x='Dew point temperature(°C)', y='Rented Bike Count', col="Seasons",
    kind="scatter"
)


plt.figure(figsize=(25, 12))
sns.heatmap(df[['Date', 'Rented Bike Count', 'Hour', 'Temperature(°C)', 'Humidity(%)',
       'Wind speed (m/s)', 'Visibility (10m)', 'Dew point temperature(°C)',
       'Solar Radiation (MJ/m2)', 'Holiday',
       'Functioning Day', 'Month', 'Autumn', 'Spring', 'Summer', 'Winter']].corr(),annot=True)






X=df.drop(['Date','Rented Bike Count','Dew point temperature(°C)',  'Week Day', 'Seasons'],axis=1)
y=df.loc[:,'Rented Bike Count']


X_train,X_test,y_train,y_test = train_test_split(X,y,test_size=0.2,random_state=42)


scalar=MinMaxScaler()
X_train=scalar.fit_transform(X_train)
X_test=scalar.transform(X_test)





from sklearn.metrics import mean_squared_error, r2_score

regr = LinearRegression()

# Entrena el modelo usando los conjuntos de entrenamiento
regr.fit(X_train, y_train)

# Haz predicciones usando el conjunto de prueba
y_pred = regr.predict(X_test)

a, p = y_test**2, y_pred**2

# Calcula la Matriz de Evaluación
mse = mean_squared_error(a, p)
rmse = np.sqrt(mse)
r2 = r2_score(a, p)

# Imprime la Matriz de Evaluación
print("MSE :" , mse)
print("RMSE :" ,rmse)
print("MAE :" ,mean_absolute_error(a,p))
print("R² de Entrenamiento:", r2_score(y_train**2,regr.predict(X_train)**2))  # R² ajustado al entrenamiento
print("R² de Prueba :" ,r2)
print("R² Ajustado :", 1-(1-r2)*((len(X_test)-1)/(len(X_test)-X_test.shape[1]-1)))





plt.figure(figsize=(18,6))
plt.plot((y_pred)[:100])
plt.plot((np.array(y_test)[:100]))
plt.legend(["Predicción", "Actual"])
plt.title('Recuentos de bicicletas real V/S predichos')
plt.show()








from sklearn.tree import DecisionTreeRegressor
from sklearn.metrics import mean_squared_error,r2_score,mean_absolute_error

regr = DecisionTreeRegressor()

# Entrena el modelo usando los conjuntos de entrenamiento
regr.fit(X_train, y_train)

# Haz predicciones usando el conjunto de prueba
y_pred = regr.predict(X_test)

a, p = y_test**2, y_pred**2

# Calcula la Matriz de Evaluación
mse = mean_squared_error(a, p)
rmse = np.sqrt(mse)
r2 = r2_score(a, p)

# Imprime la Matriz de Evaluación
print("MSE :" , mse)
print("RMSE :" ,rmse)
print("MAE :" ,mean_absolute_error(a,p))
print("R² de Entrenamiento:", r2_score(y_train**2,regr.predict(X_train)**2))  # R² ajustado al entrenamiento
print("R² de Prueba :" ,r2)
print("R² Ajustado :", 1-(1-r2)*((len(X_test)-1)/(len(X_test)-X_test.shape[1]-1)))



plt.figure(figsize=(18,6))
plt.plot((y_pred)[:100])
plt.plot((np.array(y_test)[:100]))
plt.legend(["Prediccion", "Actual"])
plt.title('Recuentos de bicicletas real V/S predichos')
plt.show()








from sklearn.ensemble import GradientBoostingRegressor
regr = GradientBoostingRegressor(random_state=4)

# Entrena el modelo usando los conjuntos de entrenamiento
regr.fit(X_train, y_train)

# Haz predicciones usando el conjunto de prueba
y_pred = regr.predict(X_test)

a, p = y_test**2, y_pred**2

# Calcula la Matriz de Evaluación
mse = mean_squared_error(a, p)
rmse = np.sqrt(mse)
r2 = r2_score(a, p)

# Imprime la Matriz de Evaluación
print("MSE :" , mse)
print("RMSE :" ,rmse)
print("MAE :" ,mean_absolute_error(a,p))
print("R² de Entrenamiento:", r2_score(y_train**2,regr.predict(X_train)**2))  # R² ajustado al entrenamiento
print("R² de Prueba :" ,r2)
print("R² Ajustado :", 1-(1-r2)*((len(X_test)-1)/(len(X_test)-X_test.shape[1]-1)))



plt.figure(figsize=(18,6))
plt.plot((y_pred)[:100])
plt.plot((np.array(y_test)[:100]))
plt.legend(["Prediccion", "Actual"])
plt.title('Recuentos de bicicletas real V/S predichos')
plt.show()






